{
  "nbformat": 4,
  "nbformat_minor": 0,
  "metadata": {
    "colab": {
      "name": "Session_3_Assignment.ipynb",
      "provenance": [],
      "collapsed_sections": []
    },
    "kernelspec": {
      "name": "python3",
      "display_name": "Python 3"
    }
  },
  "cells": [
    {
      "cell_type": "markdown",
      "metadata": {
        "id": "9jSAmHOdRwml"
      },
      "source": [
        "Question 1 : Write a function using only list filter lambda that can tell \n",
        "whether a number is a Fibonacci number or not. \n",
        "You can use a pre-calculated list/dict to store fab numbers till 10000."
      ]
    },
    {
      "cell_type": "markdown",
      "metadata": {
        "id": "XCTglAbdR7_9"
      },
      "source": [
        "Solution:"
      ]
    },
    {
      "cell_type": "code",
      "metadata": {
        "id": "wz6gDvZERzl9",
        "outputId": "4ab5737c-7483-4284-e1c4-312420f4a20f",
        "colab": {
          "base_uri": "https://localhost:8080/"
        }
      },
      "source": [
        "import math\n",
        "seq = list(range(10000)) #sequence of first 10000 numbers\n",
        "#print(\"User Input Sequence\",seq)\n",
        "\n",
        "#Function to check and output Fibonacci numbers from the above sequence.\n",
        "check_fibonacci_number = list(filter(lambda x : int(math.sqrt(5 * x * x + 4))*int(math.sqrt(5 * x * x + 4)) == 5 * x * x + 4 \\\n",
        "                                or int(math.sqrt(5 * x * x - 4))*int(math.sqrt(5 * x * x - 4)) == 5 * x * x - 4,seq))\n",
        "print(\"Fibonacci numbers from the User Input Sequence\",check_fibonacci_number)"
      ],
      "execution_count": 4,
      "outputs": [
        {
          "output_type": "stream",
          "text": [
            "Fibonacci numbers from the User Input Sequence [0, 1, 2, 3, 5, 8, 13, 21, 34, 55, 89, 144, 233, 377, 610, 987, 1597, 2584, 4181, 6765]\n"
          ],
          "name": "stdout"
        }
      ]
    },
    {
      "cell_type": "markdown",
      "metadata": {
        "id": "hPixua0pR_I8"
      },
      "source": [
        "Question 2: Using list comprehension (and zip/lambda/etc if required) write five different expressions that:\n",
        "\n",
        "* a) add 2 iterables a and b such that a is even and b is odd.\n",
        "* b) strips every vowel from a string provided (tsai>>t s).\n",
        "* c) acts like a ReLU function for a 1D array.\n",
        "* d) acts like a sigmoid function for a 1D array.\n",
        "* e) takes a small character string and shifts all characters by 5 (handle boundary conditions) tsai>>yxfn."
      ]
    },
    {
      "cell_type": "markdown",
      "metadata": {
        "id": "3p_pXy3sTdQH"
      },
      "source": [
        "Solution:"
      ]
    },
    {
      "cell_type": "code",
      "metadata": {
        "id": "OJZLaFEEST6z",
        "outputId": "a61f8a6c-fb85-4666-899e-b650c40e50b4",
        "colab": {
          "base_uri": "https://localhost:8080/"
        }
      },
      "source": [
        "#a\n",
        "even_list = [i for i in range(20) if i%2==0]\n",
        "odd_list = [i for i in range(20) if i%2!=0]\n",
        "sum_list = list(map(lambda x,y : x+y, even_list, odd_list))\n",
        "print(\"(a)-------------------------\")\n",
        "print(\"even_list\", even_list)\n",
        "print(\"odd_list\", odd_list)\n",
        "print(\"even+odd_list\", sum_list)\n",
        "print(\"-------------------------\",'\\n')\n",
        "#b\n",
        "print(\"(b)-------------------------\")\n",
        "vowels = ['a','e','i','o','u']\n",
        "strin = 'The SMART FOX jumped over the wall'\n",
        "vowel_strip = [x for x in strin if x.lower() not in vowels]\n",
        "print(\"vowels:\", vowels)\n",
        "print(\"User_Input:\", strin)\n",
        "print(\"User_Input_without_vowels:\",''.join(vowel_strip))\n",
        "print(\"-------------------------\",'\\n')\n",
        "#c\n",
        "print(\"(c)-------------------------\")\n",
        "list_of_numbers_for_RELU = [1,-1,2,-2,3,-3,0]\n",
        "mimic_relu = list(map(lambda x: x if (x>=0) else 0,(list_of_numbers_for_RELU)))\n",
        "print(\"User_Input\",list_of_numbers_for_RELU)\n",
        "print(\"RELU\", mimic_relu)\n",
        "print(\"-------------------------\",'\\n')\n",
        "#d\n",
        "print(\"(d)-------------------------\")\n",
        "import math\n",
        "list_of_numbers_for_SIGMOID = [1,-1,2,-2,3,-3,0]\n",
        "mimic_sigmoid = list(map(lambda x: 1/(1+math.exp(-x)),(list_of_numbers_for_SIGMOID)))\n",
        "print(\"User_Input\",list_of_numbers_for_SIGMOID)\n",
        "print('SIGMOID',mimic_sigmoid)\n",
        "print(\"-------------------------\",'\\n')\n",
        "#e\n",
        "print(\"(e)-------------------------\")\n",
        "seq = 'wWai'\n",
        "character_plus5 = lambda x : ord(x)+5\n",
        "charac_check = [chr((character_plus5(i)-122)+96) if 97<ord(i)<123 and character_plus5(i) > 122 else \\\n",
        "     chr((character_plus5(i)-90)+64) if 64<ord(i)<91 and character_plus5(i) > 90 else \\\n",
        "     chr(character_plus5(i)) \\\n",
        "     for i in seq] \n",
        "print(\"User Input:\",seq)\n",
        "print(\"User Input Character + 5:\",charac_check)\n",
        "print(\"-------------------------\",'\\n')"
      ],
      "execution_count": 5,
      "outputs": [
        {
          "output_type": "stream",
          "text": [
            "(a)-------------------------\n",
            "even_list [0, 2, 4, 6, 8, 10, 12, 14, 16, 18]\n",
            "odd_list [1, 3, 5, 7, 9, 11, 13, 15, 17, 19]\n",
            "even+odd_list [1, 5, 9, 13, 17, 21, 25, 29, 33, 37]\n",
            "------------------------- \n",
            "\n",
            "(b)-------------------------\n",
            "vowels: ['a', 'e', 'i', 'o', 'u']\n",
            "User_Input: The SMART FOX jumped over the wall\n",
            "User_Input_without_vowels: Th SMRT FX jmpd vr th wll\n",
            "------------------------- \n",
            "\n",
            "(c)-------------------------\n",
            "User_Input [1, -1, 2, -2, 3, -3, 0]\n",
            "RELU [1, 0, 2, 0, 3, 0, 0]\n",
            "------------------------- \n",
            "\n",
            "(d)-------------------------\n",
            "User_Input [1, -1, 2, -2, 3, -3, 0]\n",
            "SIGMOID [0.7310585786300049, 0.2689414213699951, 0.8807970779778823, 0.11920292202211755, 0.9525741268224334, 0.04742587317756678, 0.5]\n",
            "------------------------- \n",
            "\n",
            "(e)-------------------------\n",
            "User Input: wWai\n",
            "User Input Character + 5: ['b', 'B', 'f', 'n']\n",
            "------------------------- \n",
            "\n"
          ],
          "name": "stdout"
        }
      ]
    },
    {
      "cell_type": "markdown",
      "metadata": {
        "id": "ftpP1Ett87af"
      },
      "source": [
        "Question 3: A list comprehension expression that takes a ~200 word paragraph (write your own paragraph to check),\n",
        "and checks whether it has any of the swear words mentioned in https://github.com/RobertJGabriel/Google-profanity-words/blob/master/list.txt"
      ]
    },
    {
      "cell_type": "markdown",
      "metadata": {
        "id": "6tK9CGqYGQ0Z"
      },
      "source": [
        "Solution:"
      ]
    },
    {
      "cell_type": "code",
      "metadata": {
        "id": "M-E0Qz299HCg",
        "outputId": "41f3523f-6256-4f30-e168-7606fe914707",
        "colab": {
          "base_uri": "https://localhost:8080/"
        }
      },
      "source": [
        "f = open(\"bad_words.txt\", \"r\")\n",
        "words_in_list = [i[:-1] for i in f] \n",
        "para = \"\"\"Aye, you’re not gonnae be the smart cunt in there!’ the policeman says.Focus on his face. It’ll help keep the shrinking back. He’s got green eyes, a squint nose, and the hair on his neck and forearms is thick as fucking pelt. You’re giving me the boak, fuck-pus. He’s loving this. They’re wanted my banged up away from town and their stations, for how long? They think if they put me far enough away then I cannae get in trouble. \n",
        "Aye. Okay. There’s still buses, fanny-heads, I umnay behind locked doors yet.\n",
        "The policeman is watching me in his rear-view mirror. He gave me a stoater of a slap yesterday. \n",
        "Old radgio el fuckmong, I call him, old cunt-pus himself.\"\"\"\n",
        "remove_bad_words = [i for i in para.split() if i.lower() in words_in_list]\n",
        "print(\"User_Input_Para_with_Bad_Words:\", para,\"\\n\")\n",
        "print(\"Bad_Words_REMOVED:\",' '.join(remove_bad_words))"
      ],
      "execution_count": 6,
      "outputs": [
        {
          "output_type": "stream",
          "text": [
            "User_Input_Para_with_Bad_Words: Aye, you’re not gonnae be the smart cunt in there!’ the policeman says.Focus on his face. It’ll help keep the shrinking back. He’s got green eyes, a squint nose, and the hair on his neck and forearms is thick as fucking pelt. You’re giving me the boak, fuck-pus. He’s loving this. They’re wanted my banged up away from town and their stations, for how long? They think if they put me far enough away then I cannae get in trouble. \n",
            "Aye. Okay. There’s still buses, fanny-heads, I umnay behind locked doors yet.\n",
            "The policeman is watching me in his rear-view mirror. He gave me a stoater of a slap yesterday. \n",
            "Old radgio el fuckmong, I call him, old cunt-pus himself. \n",
            "\n",
            "Bad_Words_REMOVED: cunt fucking\n"
          ],
          "name": "stdout"
        }
      ]
    },
    {
      "cell_type": "markdown",
      "metadata": {
        "id": "WJzjeU_ZLy7n"
      },
      "source": [
        "Question 4: Using reduce functions:\n",
        "\n",
        "* (a) add only even numbers in a list.\n",
        "* (b) find the biggest character in a string (printable ascii characters).\n",
        "* (c) adds every 3rd number in a list"
      ]
    },
    {
      "cell_type": "markdown",
      "metadata": {
        "id": "Y5TaWOeIMI-p"
      },
      "source": [
        "Solution:"
      ]
    },
    {
      "cell_type": "code",
      "metadata": {
        "id": "tuux2dP3GlxW",
        "outputId": "2844693c-9bc7-418e-bcf2-cea2dc2144d3",
        "colab": {
          "base_uri": "https://localhost:8080/"
        }
      },
      "source": [
        "#a\n",
        "print(\"(a)----------------\")\n",
        "seq = list(range(100))\n",
        "from functools import reduce\n",
        "add_even = reduce((lambda x,y : x+y if y%2==0 else x),seq)\n",
        "print(\"User_Input:\",seq)\n",
        "print(\"Sum_of_even_numbers:\",add_even)\n",
        "print(\"---------------------\",\"\\n\")\n",
        "#b\n",
        "print(\"(b)----------------\")\n",
        "strin = 'DiytarkaDaZ'\n",
        "large_check = reduce((lambda x,y: x if ord(x)>ord(y) else y),strin)\n",
        "print(\"User_Input:\", strin)\n",
        "print(\"Largest_ASCII_character_in_User_Input:\",large_check)\n",
        "print(\"---------------------\",\"\\n\")\n",
        "#c\n",
        "print(\"(c)----------------\")\n",
        "ls = list(range(10))\n",
        "sum_every3rd_number = reduce((lambda x,y: x+y),ls[2::3])\n",
        "print(\"User_Input:\",ls)\n",
        "print(\"Sum_of_every_3rd_number:\",sum_every3rd_number)\n",
        "print(\"---------------------\",\"\\n\")"
      ],
      "execution_count": 7,
      "outputs": [
        {
          "output_type": "stream",
          "text": [
            "(a)----------------\n",
            "User_Input: [0, 1, 2, 3, 4, 5, 6, 7, 8, 9, 10, 11, 12, 13, 14, 15, 16, 17, 18, 19, 20, 21, 22, 23, 24, 25, 26, 27, 28, 29, 30, 31, 32, 33, 34, 35, 36, 37, 38, 39, 40, 41, 42, 43, 44, 45, 46, 47, 48, 49, 50, 51, 52, 53, 54, 55, 56, 57, 58, 59, 60, 61, 62, 63, 64, 65, 66, 67, 68, 69, 70, 71, 72, 73, 74, 75, 76, 77, 78, 79, 80, 81, 82, 83, 84, 85, 86, 87, 88, 89, 90, 91, 92, 93, 94, 95, 96, 97, 98, 99]\n",
            "Sum_of_even_numbers: 2450\n",
            "--------------------- \n",
            "\n",
            "(b)----------------\n",
            "User_Input: DiytarkaDaZ\n",
            "Largest_ASCII_character_in_User_Input: y\n",
            "--------------------- \n",
            "\n",
            "(c)----------------\n",
            "User_Input: [0, 1, 2, 3, 4, 5, 6, 7, 8, 9]\n",
            "Sum_of_every_3rd_number: 15\n",
            "--------------------- \n",
            "\n"
          ],
          "name": "stdout"
        }
      ]
    },
    {
      "cell_type": "markdown",
      "metadata": {
        "id": "y11WkFtt1fgq"
      },
      "source": [
        "Question 5: Using randint, random.choice and list comprehensions, \n",
        "write an expression that generates 15 random KADDAADDDD number plates, \n",
        "where KA is fixed, D stands for a digit, and A stands for Capital alphabets. \n",
        "10<<DD<<99 & 1000<<DDDD<<9999 "
      ]
    },
    {
      "cell_type": "code",
      "metadata": {
        "id": "uwOFvW9VMQrZ",
        "outputId": "420458df-20f9-423c-aa0a-26a86aa7aec3",
        "colab": {
          "base_uri": "https://localhost:8080/"
        }
      },
      "source": [
        "import random\n",
        "print(\"15 Generated_Numbers\")\n",
        "              #KA\n",
        "number_gen = [print('KA'+\\\n",
        "              #DD\n",
        "              str(random.randint(10,99))+\\\n",
        "              #A\n",
        "              chr(random.randint(65,90))+\\\n",
        "              #A\n",
        "              chr(random.randint(65,90))+\\\n",
        "              #DDDD\n",
        "              str(random.randint(1000,9999)), end='\\n') for i in range(16)]"
      ],
      "execution_count": 8,
      "outputs": [
        {
          "output_type": "stream",
          "text": [
            "15 Generated_Numbers\n",
            "KA88GL2340\n",
            "KA41US5257\n",
            "KA29HJ3256\n",
            "KA92WO3175\n",
            "KA14IX1836\n",
            "KA82VC3798\n",
            "KA57OJ4282\n",
            "KA89BI3318\n",
            "KA61SU8570\n",
            "KA60JY7294\n",
            "KA61LH2379\n",
            "KA57OH6657\n",
            "KA45CW9377\n",
            "KA81NA6976\n",
            "KA46LK3085\n",
            "KA68UU2069\n"
          ],
          "name": "stdout"
        }
      ]
    },
    {
      "cell_type": "markdown",
      "metadata": {
        "id": "qOuz98SzHH3L"
      },
      "source": [
        "Question 6: Write the above again from scratch where KA can be changed to DL and 1000/9999 ranges can be provided."
      ]
    },
    {
      "cell_type": "code",
      "metadata": {
        "id": "mIPgcWEs4Z2t",
        "outputId": "1dee595f-80ee-453b-cf54-f8e931d636ba",
        "colab": {
          "base_uri": "https://localhost:8080/"
        }
      },
      "source": [
        "import random\n",
        "print(\"15 Generated_Numbers\")\n",
        "number_gen = lambda st='KA',license_number='1111': \\\n",
        "[st+str(random.randint(10,99))+\\\n",
        "              chr(random.randint(65,90))+\\\n",
        "              chr(random.randint(65,90))+\\\n",
        "              license_number for _ in range(15)]\n",
        "number_gen('DL','5555')"
      ],
      "execution_count": 9,
      "outputs": [
        {
          "output_type": "stream",
          "text": [
            "15 Generated_Numbers\n"
          ],
          "name": "stdout"
        },
        {
          "output_type": "execute_result",
          "data": {
            "text/plain": [
              "['DL69QP5555',\n",
              " 'DL59BJ5555',\n",
              " 'DL96JX5555',\n",
              " 'DL22PW5555',\n",
              " 'DL19MI5555',\n",
              " 'DL90EM5555',\n",
              " 'DL34JT5555',\n",
              " 'DL73LH5555',\n",
              " 'DL78LO5555',\n",
              " 'DL80YJ5555',\n",
              " 'DL63HQ5555',\n",
              " 'DL87JI5555',\n",
              " 'DL19CY5555',\n",
              " 'DL38EJ5555',\n",
              " 'DL56UW5555']"
            ]
          },
          "metadata": {
            "tags": []
          },
          "execution_count": 9
        }
      ]
    },
    {
      "cell_type": "code",
      "metadata": {
        "id": "cfQCYc8eXQKo"
      },
      "source": [
        ""
      ],
      "execution_count": 9,
      "outputs": []
    }
  ]
}